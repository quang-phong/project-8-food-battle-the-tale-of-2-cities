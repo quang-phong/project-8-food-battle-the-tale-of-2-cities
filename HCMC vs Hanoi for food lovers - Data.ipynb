{
 "metadata": {
  "language_info": {
   "codemirror_mode": {
    "name": "ipython",
    "version": 3
   },
   "file_extension": ".py",
   "mimetype": "text/x-python",
   "name": "python",
   "nbconvert_exporter": "python",
   "pygments_lexer": "ipython3",
   "version": 3
  },
  "orig_nbformat": 2
 },
 "nbformat": 4,
 "nbformat_minor": 2,
 "cells": [
  {
   "source": [
    "# HO CHI MINH CITY vs HANOI:\n",
    "## which is the best place to visit for food-lovers?\n",
    "** Author: Quang Phonggg **"
   ],
   "cell_type": "markdown",
   "metadata": {}
  },
  {
   "source": [
    "### PROBLEM DESCRIPTION\n",
    "The 2 biggest cities not only in Vietnam but also in Indochina Peninsular, namely Ho Chi Minh City and Hanoi, have always made foreign travellers and even domestic ones indecisive to select the more suitable city to visit.\n",
    "Representing (and sharing) the viewpoints of \"young food addicts\" who always hunger for more and more good food on their journeys, the author (Quang Phong) will compare and contrast Ho Chi Minh City (Thành phố Hồ Chí Minh, in Vietnamese) and Hanoi (Hà Nội, in Vietnamese) with regards to food-related aspects to give some hints on their decisions.\n",
    "\n",
    "** The following questions need to be answered before some conclusions can be drawn: **\n",
    "- What are the most common venues/restaurants in each city?\n",
    "- What are the most common venues/restaurants in each district?\n",
    "- What are the most common venues/restaurants in each ward?\n",
    "- How many clusters can we categorize districts within each city based on restaurant-related venues?\n",
    "- How diverse are each district's restaurants in terms of cuisines?\n",
    "- How diverse are each city's restaurants in terms of cuisine??\n",
    "- Which city has the highest/lowest number of restaurants per residents?  \n",
    "\n",
    "Also, we need to visualize all information on the map to have a clearer look at the results.\n",
    "\n",
    "As mentioned, the target audience is travellers who want to come to Vietnam. More importantly, this can be used by investors and business owners to expand their market in either of the 2 cities."
   ],
   "cell_type": "markdown",
   "metadata": {}
  },
  {
   "source": [
    "### DATA SOURCE\n",
    "1. https://www.citypopulation.de/en/vietnam/thanhphohochiminh/admin/. Data on Ho Chi Minh City Municipality, Districts and Communes's names, levels and populations are taken from here.\n",
    "2. https://www.citypopulation.de/en/vietnam/hanoi/admin/. Data on Hanoi Municipality, Districts and Communes' names, levels, and populations are taken from here.\n",
    "3. Coordinates of locations in HCMC and Hanoi are taken from OpenStreetMap through the help of Nominatim. \n",
    "4. Venues' information is taken from Foursquare. In details, venues' names and categories in HCMC and Hanoi will be gathered."
   ],
   "cell_type": "markdown",
   "metadata": {}
  },
  {
   "source": [
    "\n",
    "\n"
   ],
   "cell_type": "markdown",
   "metadata": {}
  },
  {
   "cell_type": "code",
   "execution_count": null,
   "metadata": {},
   "outputs": [],
   "source": []
  },
  {
   "cell_type": "code",
   "execution_count": null,
   "metadata": {},
   "outputs": [],
   "source": []
  }
 ]
}